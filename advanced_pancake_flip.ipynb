{
 "cells": [
  {
   "cell_type": "markdown",
   "id": "5b561b53-cecc-4e66-91fa-e0d60e0b6834",
   "metadata": {},
   "source": [
    "### advanced pancake flipping"
   ]
  },
  {
   "cell_type": "markdown",
   "id": "ca45cf6c-4e2f-4b00-8eb6-a45530053fc2",
   "metadata": {},
   "source": [
    "locate break points"
   ]
  },
  {
   "cell_type": "code",
   "execution_count": 1,
   "id": "0a41fed6-f9d7-4085-bab2-b93f8991d186",
   "metadata": {},
   "outputs": [],
   "source": [
    "def findBreakPoints(a):\n",
    "    breaks = [0]\n",
    "    for i in range(1, len(a)):\n",
    "        if not (a[i-1] == a[i] + 1 or a[i-1] == a[i] - 1):\n",
    "            breaks.append(i)\n",
    "    breaks.append(len(a))\n",
    "    return breaks\n",
    "\n",
    "def countBreakPoints(a):\n",
    "    return len(findBreakPoints(a))\n",
    "\n",
    "def printBreaks(a):\n",
    "    breaks = findBreakPoints(a)\n",
    "    for i in range(len(a)):\n",
    "        if i in breaks:\n",
    "            print('| ',end=\"\")\n",
    "        print(f\"{a[i]} \",end=\"\")\n",
    "    print(\"|\")"
   ]
  },
  {
   "cell_type": "code",
   "execution_count": 2,
   "id": "366e6459-410c-4207-9d6e-7bedd73f820c",
   "metadata": {},
   "outputs": [
    {
     "name": "stdout",
     "output_type": "stream",
     "text": [
      "[0, 1, 3, 5, 9, 10]\n",
      "| 1 | 8 9 | 3 2 | 7 6 5 4 | 10 |\n"
     ]
    }
   ],
   "source": [
    "a = [1, 8, 9, 3, 2, 7, 6, 5, 4, 10]\n",
    "# a = [i for i in range(1,11)]\n",
    "print(findBreakPoints(a))\n",
    "printBreaks(a)"
   ]
  },
  {
   "cell_type": "markdown",
   "id": "ebafc3d8-37af-4111-9b1a-93c28671a6c4",
   "metadata": {},
   "source": [
    "the sort"
   ]
  },
  {
   "cell_type": "code",
   "execution_count": 41,
   "id": "982e0281-4377-41e4-aa1d-ebcf533db138",
   "metadata": {},
   "outputs": [],
   "source": [
    "import heapq\n",
    "import random"
   ]
  },
  {
   "cell_type": "code",
   "execution_count": 4,
   "id": "b24bdc3e-4d23-47af-9188-480aef7cef6d",
   "metadata": {},
   "outputs": [],
   "source": [
    "def flip(a, i, j):\n",
    "    if i >= j:\n",
    "        return\n",
    "    while i < j:\n",
    "        a[i], a[j] = a[j], a[i]\n",
    "        i += 1\n",
    "        j -= 1"
   ]
  },
  {
   "cell_type": "code",
   "execution_count": 5,
   "id": "39b86fba-3f55-49f8-b06b-2141eaaf5224",
   "metadata": {},
   "outputs": [],
   "source": [
    "def numAfterFlip(a, i, j):\n",
    "    aux = a.copy()\n",
    "    flip(aux, i, j)\n",
    "    return aux, countBreakPoints(aux)"
   ]
  },
  {
   "cell_type": "code",
   "execution_count": 49,
   "id": "8643e344-a9fd-458d-b436-dda636684ed0",
   "metadata": {},
   "outputs": [],
   "source": [
    "def sort(a):\n",
    "    h = []\n",
    "    heapq.heappush(h, (countBreakPoints(a), a, []))\n",
    "    visited = set()\n",
    "    visited.add(tuple(a))\n",
    "    while h:\n",
    "        currNumBreaks, currState, currPath = heapq.heappop(h)\n",
    "        if currNumBreaks == 2:\n",
    "            return currPath\n",
    "            \n",
    "        breaks = findBreakPoints(currState)\n",
    "        \n",
    "        for i in range(len(breaks)):\n",
    "            for j in range(i + 1, len(breaks)):\n",
    "                if breaks[j] - breaks[i] <= 1:\n",
    "                    continue\n",
    "                newA, numBreaks = numAfterFlip(currState, breaks[i], breaks[j] - 1)\n",
    "                newPath = currPath + [(breaks[i],breaks[j])]\n",
    "                if numBreaks == 2:\n",
    "                    return newPath\n",
    "                if tuple(newA) in visited:\n",
    "                    continue\n",
    "                visited.add(tuple(newA))\n",
    "                heapq.heappush(h, (numBreaks, newA, newPath))\n",
    "    return \"bad\"\n"
   ]
  },
  {
   "cell_type": "code",
   "execution_count": 51,
   "id": "1a0de3ec-c592-4bd9-bae7-5b2aac25a932",
   "metadata": {},
   "outputs": [
    {
     "name": "stdout",
     "output_type": "stream",
     "text": [
      "[(55, 69), (0, 30), (1, 28), (0, 19), (1, 11), (5, 38), (6, 12), (7, 72), (12, 80), (14, 94), (13, 75), (13, 15), (14, 80), (15, 24), (15, 28), (16, 37), (17, 93), (2, 20), (2, 11), (4, 17), (11, 40), (12, 34), (16, 32), (17, 51), (11, 17), (12, 62), (13, 62), (19, 21), (19, 24), (20, 75), (21, 65), (23, 88), (25, 97), (26, 29), (28, 42), (29, 61), (30, 57), (34, 71), (35, 73), (35, 79), (36, 59), (37, 64), (40, 98), (43, 61), (44, 90), (45, 88), (46, 78), (47, 84), (48, 90), (51, 66), (52, 67), (52, 73), (52, 65), (54, 77), (54, 59), (63, 71), (58, 69), (66, 73), (68, 76), (66, 80), (68, 94), (68, 84), (63, 82), (60, 68), (60, 75), (70, 91), (65, 70), (63, 65), (60, 63), (54, 58), (54, 96), (52, 90), (48, 99), (43, 95), (29, 93), (25, 82), (28, 87), (51, 99), (16, 28), (8, 25), (2, 8), (0, 2), (5, 37), (14, 37), (21, 37), (37, 39), (39, 69), (69, 91), (91, 99)]\n"
     ]
    }
   ],
   "source": [
    "a = [1, 8, 9, 3, 2, 7, 6, 5, 4, 10]\n",
    "a = [i for i in range(1,100)]\n",
    "random.shuffle(a)\n",
    "print(sort(a))"
   ]
  },
  {
   "cell_type": "code",
   "execution_count": null,
   "id": "aafb97d1-6e0e-468c-96b1-2f96e6fac9bf",
   "metadata": {},
   "outputs": [],
   "source": []
  }
 ],
 "metadata": {
  "kernelspec": {
   "display_name": "Python 3 (ipykernel)",
   "language": "python",
   "name": "python3"
  },
  "language_info": {
   "codemirror_mode": {
    "name": "ipython",
    "version": 3
   },
   "file_extension": ".py",
   "mimetype": "text/x-python",
   "name": "python",
   "nbconvert_exporter": "python",
   "pygments_lexer": "ipython3",
   "version": "3.12.2"
  }
 },
 "nbformat": 4,
 "nbformat_minor": 5
}
