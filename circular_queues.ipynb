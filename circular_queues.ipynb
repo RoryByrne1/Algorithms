{
 "cells": [
  {
   "cell_type": "markdown",
   "id": "d242153c-8d46-4984-98e1-6d81d067cd27",
   "metadata": {},
   "source": [
    "#### Circular Lists"
   ]
  },
  {
   "cell_type": "code",
   "execution_count": 412,
   "id": "7094bfd9-5bc8-4a2e-abdd-e92300b803b3",
   "metadata": {},
   "outputs": [],
   "source": [
    "class SinglyNode():\n",
    "    def __init__(self, value):\n",
    "        self.val = value\n",
    "        self.next = None\n",
    "        # self.length = 0\n",
    "\n",
    "class SinglyCircularList():\n",
    "    def __init__(self):\n",
    "        self.end = None\n",
    "\n",
    "    def print(self):\n",
    "        length = self.length()\n",
    "        if length > 0:\n",
    "            current = self.end\n",
    "            for i in range(0, length):\n",
    "                print(f\"{current.next.val} -> \",end=\"\")\n",
    "                current = current.next\n",
    "        print(\"\")\n",
    "\n",
    "    def isEmpty(self):\n",
    "        if self.end:\n",
    "            return True\n",
    "        return False\n",
    "\n",
    "    def length(self):\n",
    "        length = 0\n",
    "        if self.end:\n",
    "            current = self.end\n",
    "            while current.next != self.end:\n",
    "                length += 1\n",
    "                current = current.next\n",
    "        return length\n",
    "\n",
    "    def append(self, item):\n",
    "        node = SinglyNode(item)\n",
    "        if self.end:\n",
    "            node.next = self.end.next\n",
    "            self.end.next = node\n",
    "        else:\n",
    "            node.next = node\n",
    "        self.end = node\n",
    "\n",
    "    def prepend(self, item):\n",
    "        node = SinglyNode(item)\n",
    "        if self.end:\n",
    "            node.next = self.end.next\n",
    "            self.end.next = node\n",
    "        else:\n",
    "            node.next = node\n",
    "            self.end = node\n",
    "\n",
    "    def delete(self, pos):\n",
    "        length = self.length()\n",
    "        if not (0 <= pos < length):\n",
    "            raise IndexError('position out of range')\n",
    "        if length == 1:\n",
    "            self.end = None\n",
    "            return\n",
    "        current = self.end\n",
    "        for i in range(pos, 0, -1):\n",
    "            current = current.next\n",
    "        # current.next now holds the node to delete\n",
    "        if current.next == self.end:\n",
    "            self.end = current\n",
    "        current.next = (current.next).next\n",
    "\n",
    "    def access(self, pos):\n",
    "        length = self.length()\n",
    "        if not (0 <= pos < length):\n",
    "            raise IndexError(f\"position {pos} is out of range\")\n",
    "        current = self.end\n",
    "        for i in range(pos, 0, -1):\n",
    "            current = current.next\n",
    "        return current.next.val\n",
    "        "
   ]
  },
  {
   "cell_type": "code",
   "execution_count": 413,
   "id": "2b597956-c2a8-4888-a42a-cf71c1a1a175",
   "metadata": {},
   "outputs": [],
   "source": [
    "circle = SinglyCircularList()"
   ]
  },
  {
   "cell_type": "code",
   "execution_count": 414,
   "id": "fa2ff6a4-63b9-473d-a43d-2df58993a6af",
   "metadata": {},
   "outputs": [
    {
     "name": "stdout",
     "output_type": "stream",
     "text": [
      "\n"
     ]
    }
   ],
   "source": [
    "circle.print()"
   ]
  },
  {
   "cell_type": "code",
   "execution_count": 415,
   "id": "fbbb0129-74a8-4725-97fb-174a3a16f6f4",
   "metadata": {},
   "outputs": [],
   "source": [
    "circle.append(7)"
   ]
  },
  {
   "cell_type": "code",
   "execution_count": 416,
   "id": "a665dc2a-850a-47d0-b070-4e1fbd7bc8c7",
   "metadata": {},
   "outputs": [],
   "source": [
    "circle.prepend(1)"
   ]
  },
  {
   "cell_type": "code",
   "execution_count": 417,
   "id": "6d08d24f-9e5d-4bf4-b212-dd808eb36ade",
   "metadata": {},
   "outputs": [
    {
     "data": {
      "text/plain": [
       "1"
      ]
     },
     "execution_count": 417,
     "metadata": {},
     "output_type": "execute_result"
    }
   ],
   "source": [
    "circle.access(0)"
   ]
  },
  {
   "cell_type": "code",
   "execution_count": 418,
   "id": "05773585-0f75-4c8f-b661-f72b978a7d2d",
   "metadata": {},
   "outputs": [],
   "source": [
    "circle.delete(0)"
   ]
  },
  {
   "cell_type": "code",
   "execution_count": 419,
   "id": "d29051a2-0503-428e-9f4f-e7a484417cdc",
   "metadata": {},
   "outputs": [],
   "source": [
    "class DoublyNode():\n",
    "    def __init__(self, value):\n",
    "        self.prev = None\n",
    "        self.val = value\n",
    "        self.next = None\n",
    "\n",
    "class DoublyCircularList():\n",
    "    def __init__(self):\n",
    "        self.start = None\n",
    "\n",
    "    def print(self):\n",
    "        if not self.isEmpty():\n",
    "            current = self.start\n",
    "            for i in range(0, self.length()):\n",
    "                print(f\"{current.val} -> \",end=\"\")\n",
    "                current = current.next\n",
    "        print(\"\")\n",
    "\n",
    "    def isEmpty(self):\n",
    "        if self.start:\n",
    "            return False\n",
    "        return True\n",
    "\n",
    "    def length(self):\n",
    "        if self.isEmpty():\n",
    "            return 0\n",
    "        else:\n",
    "            length = 1\n",
    "            current = self.start\n",
    "            while current.next != self.start:\n",
    "                length += 1\n",
    "                current = current.next\n",
    "        return length\n",
    "\n",
    "    def append(self, item):\n",
    "        node = DoublyNode(item)\n",
    "        if not self.isEmpty():\n",
    "            node.next = self.start\n",
    "            node.prev = self.start.prev\n",
    "            self.start.prev.next = node\n",
    "            self.start.prev = node\n",
    "        else:\n",
    "            self.start = node\n",
    "            node.prev = node\n",
    "            node.next = node\n",
    "\n",
    "    def prepend(self, item):\n",
    "        self.append(item)\n",
    "        self.start = self.start.prev\n",
    "\n",
    "    def nodeAt(self, pos):\n",
    "        current = self.start\n",
    "        if pos >= 0:\n",
    "            for i in range(pos, 0, -1):\n",
    "                current = current.next\n",
    "        else:\n",
    "            for i in range(pos, 0, 1):\n",
    "                current = current.prev\n",
    "        return current\n",
    "\n",
    "    def delete(self, pos):\n",
    "        length = self.length()\n",
    "        if not (-length <= pos < length) or self.isEmpty():\n",
    "            raise IndexError('position out of range')\n",
    "        if length == 1:\n",
    "            self.start = None\n",
    "            return\n",
    "        node = self.nodeAt(pos)\n",
    "        if node == self.start:\n",
    "            self.start = node.next\n",
    "        node.prev.next = node.next\n",
    "        node.next.prev = node.prev\n",
    "\n",
    "    def access(self, pos):\n",
    "        length = self.length()\n",
    "        if not (-length <= pos < length):\n",
    "            raise IndexError(f\"position {pos} is out of range\")\n",
    "        node = self.nodeAt(pos)     \n",
    "        return node.val\n"
   ]
  },
  {
   "cell_type": "code",
   "execution_count": 420,
   "id": "07ba3d9f-8248-483f-8bc5-4796be0bbba9",
   "metadata": {},
   "outputs": [],
   "source": [
    "dcircle = DoublyCircularList()"
   ]
  },
  {
   "cell_type": "code",
   "execution_count": 421,
   "id": "0d137918-a201-4893-9cd6-5c3b02948f7f",
   "metadata": {},
   "outputs": [
    {
     "name": "stdout",
     "output_type": "stream",
     "text": [
      "\n"
     ]
    }
   ],
   "source": [
    "dcircle.print()"
   ]
  },
  {
   "cell_type": "code",
   "execution_count": 422,
   "id": "1b236f38-1c7e-4076-aa7f-3d42dd5097b6",
   "metadata": {},
   "outputs": [],
   "source": [
    "dcircle.append(1)"
   ]
  },
  {
   "cell_type": "code",
   "execution_count": 423,
   "id": "39f4d319-4625-4414-87f7-27a423ce370c",
   "metadata": {},
   "outputs": [],
   "source": [
    "dcircle.prepend(0)"
   ]
  },
  {
   "cell_type": "code",
   "execution_count": 424,
   "id": "00cda040-99f4-495e-a519-26d004ca1f0d",
   "metadata": {},
   "outputs": [
    {
     "data": {
      "text/plain": [
       "0"
      ]
     },
     "execution_count": 424,
     "metadata": {},
     "output_type": "execute_result"
    }
   ],
   "source": [
    "dcircle.access(0)"
   ]
  },
  {
   "cell_type": "code",
   "execution_count": 425,
   "id": "0bfd79bb-db7b-467a-babc-6d725b279f6d",
   "metadata": {},
   "outputs": [],
   "source": [
    "dcircle.delete(0)"
   ]
  },
  {
   "cell_type": "markdown",
   "id": "ac236ca5-8386-4881-a9cd-4f75b12d46d0",
   "metadata": {},
   "source": [
    "#### Deque"
   ]
  },
  {
   "cell_type": "code",
   "execution_count": 443,
   "id": "2e08d000-8503-442e-aa5e-80e4c61966db",
   "metadata": {},
   "outputs": [],
   "source": [
    "class Deque():\n",
    "    def __init__(self):\n",
    "        self.values = []\n",
    "\n",
    "    def isEmpty(self):\n",
    "        return False if self.values else True\n",
    "\n",
    "    def length(self):\n",
    "        return len(self.values)\n",
    "\n",
    "    def addFirst(self, item):\n",
    "        self.values.insert(0, item)\n",
    "\n",
    "    def addLast(self, item):\n",
    "        self.values.append(item)\n",
    "\n",
    "    def removeFirst(self):\n",
    "        return self.values.pop(0)\n",
    "\n",
    "    def removeLast(self):\n",
    "        return self.values.pop(-1)"
   ]
  },
  {
   "cell_type": "markdown",
   "id": "35e1b64f-851d-4cab-867f-890b115cb0dc",
   "metadata": {},
   "source": [
    "#### Palindrome Checker"
   ]
  },
  {
   "cell_type": "code",
   "execution_count": 459,
   "id": "105fd182-b06c-4727-82b3-e8dda57416d7",
   "metadata": {},
   "outputs": [
    {
     "name": "stdout",
     "output_type": "stream",
     "text": [
      "True\n"
     ]
    }
   ],
   "source": [
    "def isPalindrome(string):\n",
    "    return True if string.lower() == string.lower()[::-1] else False\n",
    "\n",
    "print(isPalindrome(\"rAceCaR\"))"
   ]
  },
  {
   "cell_type": "code",
   "execution_count": 473,
   "id": "e9b78a61-0a42-4332-944e-57a1ee3cc5df",
   "metadata": {},
   "outputs": [
    {
     "name": "stdout",
     "output_type": "stream",
     "text": [
      "True\n"
     ]
    }
   ],
   "source": [
    "def isPalindrome(string):\n",
    "    if len(string) == 0 or len(string) == 1:\n",
    "        return True\n",
    "    if string.lower()[0] == string.lower()[-1]:\n",
    "        return isPalindrome(string[1:-1])\n",
    "    return False\n",
    "\n",
    "print(isPalindrome(\"rAceCaR\"))"
   ]
  },
  {
   "cell_type": "code",
   "execution_count": null,
   "id": "12a8f496-38c0-44a7-a5de-1a1e13771668",
   "metadata": {},
   "outputs": [],
   "source": []
  }
 ],
 "metadata": {
  "kernelspec": {
   "display_name": "Python 3 (ipykernel)",
   "language": "python",
   "name": "python3"
  },
  "language_info": {
   "codemirror_mode": {
    "name": "ipython",
    "version": 3
   },
   "file_extension": ".py",
   "mimetype": "text/x-python",
   "name": "python",
   "nbconvert_exporter": "python",
   "pygments_lexer": "ipython3",
   "version": "3.12.2"
  }
 },
 "nbformat": 4,
 "nbformat_minor": 5
}
